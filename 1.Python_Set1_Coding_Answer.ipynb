{
 "cells": [
  {
   "cell_type": "code",
   "execution_count": null,
   "id": "758093d9-e7ab-4d50-92df-c2a48a185c6b",
   "metadata": {},
   "outputs": [],
   "source": [
    "1.Write a Python program that prints numbers from 1 to 5.\n",
    "Expected Output:\n",
    "1 2 3 4 5"
   ]
  },
  {
   "cell_type": "code",
   "execution_count": 5,
   "id": "d50aa8a6-529f-460a-9702-dd84d4e4a28a",
   "metadata": {},
   "outputs": [
    {
     "name": "stdout",
     "output_type": "stream",
     "text": [
      "1 2 3 4 5 "
     ]
    }
   ],
   "source": [
    "for num in range(1,6):\n",
    "        print(num, end=\" \")"
   ]
  },
  {
   "cell_type": "code",
   "execution_count": null,
   "id": "62b19750-c71f-4554-a2e5-743478f48257",
   "metadata": {},
   "outputs": [],
   "source": [
    "2.Write a Python program to print the first 5 even numbers. Expected Output:\n",
    "2 4 6 8 10"
   ]
  },
  {
   "cell_type": "code",
   "execution_count": 6,
   "id": "5fe3a4f4-79b2-4edc-9787-51b39d39020b",
   "metadata": {},
   "outputs": [
    {
     "name": "stdout",
     "output_type": "stream",
     "text": [
      "2 4 6 8 10 "
     ]
    }
   ],
   "source": [
    "for num in range(1,11):\n",
    "    if((num%2==0)):\n",
    "        print(num, end=\" \")"
   ]
  },
  {
   "cell_type": "code",
   "execution_count": null,
   "id": "428a63e0-5411-4ab6-ad88-d8ee659fe992",
   "metadata": {},
   "outputs": [],
   "source": [
    "3.Write a Python program to print the sum of numbers from 1 to 10. \n",
    "Expected Output:55"
   ]
  },
  {
   "cell_type": "code",
   "execution_count": 17,
   "id": "bb2eae8b-5286-4322-a650-12ba3527750c",
   "metadata": {},
   "outputs": [
    {
     "name": "stdout",
     "output_type": "stream",
     "text": [
      "55\n"
     ]
    }
   ],
   "source": [
    "list=[1,2,3,4,5,6,7,8,9,10]\n",
    "print(sum(list))"
   ]
  },
  {
   "cell_type": "code",
   "execution_count": null,
   "id": "7f0cf9da-d5c0-4d58-8c84-4bd7b8485319",
   "metadata": {},
   "outputs": [],
   "source": [
    "4.Write a Python function to find the factorial of 5. Expected Output:\n",
    "120"
   ]
  },
  {
   "cell_type": "code",
   "execution_count": 14,
   "id": "ce499a16-f100-41ae-82c7-7c8a30dd7069",
   "metadata": {},
   "outputs": [
    {
     "name": "stdout",
     "output_type": "stream",
     "text": [
      "120\n"
     ]
    }
   ],
   "source": [
    "def factorial(i):\n",
    "    fact=1\n",
    "    num=1\n",
    "    while num<=i:\n",
    "        fact=fact*num\n",
    "        num=num+1\n",
    "    else:\n",
    "        print(fact)\n",
    "\n",
    "factorial(5)"
   ]
  },
  {
   "cell_type": "code",
   "execution_count": null,
   "id": "cf1e8369-92ea-4947-b913-8d2cb349900a",
   "metadata": {},
   "outputs": [],
   "source": [
    "5.Write a Python program to check if a number is prime. Expected Output (for input 7):\n",
    "7 is a prime number"
   ]
  },
  {
   "cell_type": "code",
   "execution_count": 13,
   "id": "b5c8f6c4-a8d2-411c-bf40-0cd351020fbc",
   "metadata": {},
   "outputs": [
    {
     "name": "stdin",
     "output_type": "stream",
     "text": [
      "Enter a number 7\n"
     ]
    },
    {
     "name": "stdout",
     "output_type": "stream",
     "text": [
      "7 is a prime number\n"
     ]
    }
   ],
   "source": [
    "num = int(input(\"Enter a number\"))\n",
    "count=0\n",
    "for i in range(1,num+1):\n",
    "    if(num%i==0):\n",
    "        count+=1\n",
    "\n",
    "if(count==2):\n",
    "    print(num, \"is a prime number\")\n",
    "else:\n",
    "    print(num, \"is not prime number\")\n"
   ]
  },
  {
   "cell_type": "code",
   "execution_count": null,
   "id": "dd78fa93-7e87-42bf-8fd7-bfd6a2ca9fd0",
   "metadata": {},
   "outputs": [],
   "source": []
  }
 ],
 "metadata": {
  "kernelspec": {
   "display_name": "Python [conda env:base] *",
   "language": "python",
   "name": "conda-base-py"
  },
  "language_info": {
   "codemirror_mode": {
    "name": "ipython",
    "version": 3
   },
   "file_extension": ".py",
   "mimetype": "text/x-python",
   "name": "python",
   "nbconvert_exporter": "python",
   "pygments_lexer": "ipython3",
   "version": "3.13.5"
  }
 },
 "nbformat": 4,
 "nbformat_minor": 5
}
