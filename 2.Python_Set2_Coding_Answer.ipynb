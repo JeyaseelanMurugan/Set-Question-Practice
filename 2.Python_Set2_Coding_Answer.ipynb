{
 "cells": [
  {
   "cell_type": "code",
   "execution_count": null,
   "id": "3f8bd199-fbd6-4f7c-8558-f21caa9bc42b",
   "metadata": {},
   "outputs": [],
   "source": [
    "1.Write a Python program to find the reverse of a string. Expected Output (for input \"hello\"):\n",
    "olleh\n"
   ]
  },
  {
   "cell_type": "code",
   "execution_count": 11,
   "id": "9e5b5363-008a-4705-b22a-614aef5b37e4",
   "metadata": {},
   "outputs": [
    {
     "name": "stdin",
     "output_type": "stream",
     "text": [
      "Enter any string hello\n"
     ]
    },
    {
     "name": "stdout",
     "output_type": "stream",
     "text": [
      "olleh"
     ]
    }
   ],
   "source": [
    "str=input(\"Enter any string\")\n",
    "length=len(str)\n",
    "for temp in range(length-1, -1, -1):\n",
    "    print(str[temp], end=\"\")"
   ]
  },
  {
   "cell_type": "code",
   "execution_count": null,
   "id": "bfdc24a1-cb2d-4019-9502-b51e5bcc1dba",
   "metadata": {},
   "outputs": [],
   "source": [
    "2.Write a Python program to generate the Fibonacci sequence up to 10 terms.\n",
    "Expected Output:\n",
    "0 1 1 2 3 5 8 13 21 34\n"
   ]
  },
  {
   "cell_type": "code",
   "execution_count": 8,
   "id": "6e668767-6d61-4191-a112-fdc8af44f676",
   "metadata": {},
   "outputs": [
    {
     "name": "stdin",
     "output_type": "stream",
     "text": [
      "Enter the sequence 10\n"
     ]
    },
    {
     "name": "stdout",
     "output_type": "stream",
     "text": [
      "0 1 1 2 3 5 8 13 21 34 "
     ]
    }
   ],
   "source": [
    "num=int(input(\"Enter the sequence\"))\n",
    "fib=0\n",
    "step=1\n",
    "print(fib, end=\" \")\n",
    "print(step, end=\" \")\n",
    "for i in range(2,num):\n",
    "    fib, step = step, fib + step\n",
    "    print(step, end=\" \")\n",
    "    "
   ]
  },
  {
   "cell_type": "code",
   "execution_count": null,
   "id": "9c3a3633-fd4a-47dd-b5ed-abfea4896e2a",
   "metadata": {},
   "outputs": [],
   "source": [
    "3.Write a Python function to check if a given string is a palindrome.\n",
    "Expected Output (for input \"madam\"):\n",
    "madam is a palindrome\n"
   ]
  },
  {
   "cell_type": "code",
   "execution_count": 10,
   "id": "05bf151a-0fd0-4efa-8c80-6c648bb91d08",
   "metadata": {
    "scrolled": true
   },
   "outputs": [
    {
     "name": "stdin",
     "output_type": "stream",
     "text": [
      "Enter any string madam\n"
     ]
    },
    {
     "name": "stdout",
     "output_type": "stream",
     "text": [
      "madam is a palindrome\n"
     ]
    }
   ],
   "source": [
    "def Palindrome(text):\n",
    "    s=\"\"\n",
    "    length=len(text)\n",
    "    for temp in range(length-1, -1, -1):\n",
    "        s +=text[temp]    \n",
    "    return s\n",
    "\n",
    "original=input(\"Enter any string\")\n",
    "reversed_str=Palindrome(original)\n",
    "if(original == reversed_str):\n",
    "    print(\"{} is a palindrome\".format(original))\n",
    "else:\n",
    "    print(\"{} is not a palindrome\".format(original))\n",
    "    "
   ]
  },
  {
   "cell_type": "code",
   "execution_count": null,
   "id": "79809901-6c69-4b78-a58b-c4a3820f3610",
   "metadata": {},
   "outputs": [],
   "source": [
    "4.Write a Python program to count the number of vowels in a given string. \n",
    "Expected Output (for input \"education\"):\n",
    "\n",
    "Number of vowels: 5"
   ]
  },
  {
   "cell_type": "code",
   "execution_count": 6,
   "id": "44f7539e-df05-4ea7-90a9-79a0f5468333",
   "metadata": {},
   "outputs": [
    {
     "name": "stdin",
     "output_type": "stream",
     "text": [
      "Enter any string education\n"
     ]
    },
    {
     "name": "stdout",
     "output_type": "stream",
     "text": [
      "Number of vowels: 5\n"
     ]
    }
   ],
   "source": [
    "text=input(\"Enter any string\")\n",
    "vowels=\"aeiou\"\n",
    "count=0\n",
    "for i in range(len(text)):\n",
    "    for j in range(len(vowels)):\n",
    "        if(vowels[j]==text[i].lower()):\n",
    "            count+=1\n",
    "            \n",
    "print(\"Number of vowels:\", count)\n",
    "        \n",
    "        "
   ]
  },
  {
   "cell_type": "code",
   "execution_count": null,
   "id": "de8d29ac-baca-4277-b73b-6209cb6ff560",
   "metadata": {},
   "outputs": [],
   "source": [
    "5.Write a Python program to remove duplicates from a list.\n",
    "Expected Output (for input [1, 2, 2, 3, 4, 4, 5]):\n",
    "\n",
    " [1, 2, 3, 4, 5]"
   ]
  },
  {
   "cell_type": "code",
   "execution_count": 21,
   "id": "0ea77ab9-196b-4bd5-9b21-6b8d994f6aac",
   "metadata": {},
   "outputs": [
    {
     "name": "stdout",
     "output_type": "stream",
     "text": [
      "[1, 2, 3, 4, 5]\n"
     ]
    }
   ],
   "source": [
    "num=[1, 2, 2, 3, 4, 4, 5]\n",
    "unique_numbers=[]\n",
    "\n",
    "for i in range(len(num)):\n",
    "    duplicate_found = False\n",
    "    for j in range(i):\n",
    "        if num[i] == num[j]:\n",
    "            duplicate_found = True\n",
    "            break\n",
    "    if not duplicate_found:\n",
    "        unique_numbers.append(num[i])\n",
    "\n",
    "print(unique_numbers)\n",
    "    "
   ]
  },
  {
   "cell_type": "code",
   "execution_count": null,
   "id": "f96aa438-3809-440d-b3d1-b50128431678",
   "metadata": {},
   "outputs": [],
   "source": []
  }
 ],
 "metadata": {
  "kernelspec": {
   "display_name": "Python [conda env:base] *",
   "language": "python",
   "name": "conda-base-py"
  },
  "language_info": {
   "codemirror_mode": {
    "name": "ipython",
    "version": 3
   },
   "file_extension": ".py",
   "mimetype": "text/x-python",
   "name": "python",
   "nbconvert_exporter": "python",
   "pygments_lexer": "ipython3",
   "version": "3.13.5"
  }
 },
 "nbformat": 4,
 "nbformat_minor": 5
}
